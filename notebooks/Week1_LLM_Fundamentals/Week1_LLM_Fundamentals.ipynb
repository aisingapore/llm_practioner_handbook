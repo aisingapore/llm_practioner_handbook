{
  "cells": [
    {
      "cell_type": "markdown",
      "metadata": {
        "id": "view-in-github",
        "colab_type": "text"
      },
      "source": [
        "<a href=\"https://colab.research.google.com/github/theogbrand/learning_llm_handbook/blob/main/notebooks/Week1_LLM_Fundamentals/Week1_LLM_Fundamentals.ipynb\" target=\"_parent\"><img src=\"https://colab.research.google.com/assets/colab-badge.svg\" alt=\"Open In Colab\"/></a>"
      ]
    },
    {
      "cell_type": "markdown",
      "metadata": {
        "id": "800624a9HGn9"
      },
      "source": [
        "# Week 1: LLM Fundamentals and Development Environment Setup\n",
        "Resource Required: Google Colab (T4) GPU - free"
      ]
    },
    {
      "cell_type": "markdown",
      "source": [
        "💡 NOTE: We will want to use a GPU to run the examples in this notebook. In Google Colab, go to Runtime > Change runtime type > Hardware accelerator > GPU > GPU type > T4.\n",
        "\n"
      ],
      "metadata": {
        "id": "y5EVhJkFHJAT"
      }
    },
    {
      "cell_type": "markdown",
      "metadata": {
        "id": "XQMfNnVkHGn-"
      },
      "source": [
        "## Notebook 1.1: LLM Tools and Libraries\n",
        "- Import SEA-LION using Hugging Face, implement different decoding strategies\n",
        "- Run inference on Colab T4 GPU and compare with local Ollama deployment\n",
        "- Explore PyTorch basics for LLM implementation"
      ]
    },
    {
      "cell_type": "code",
      "execution_count": null,
      "metadata": {
        "id": "5vQhlJjDHGn-"
      },
      "outputs": [],
      "source": [
        "# Import required libraries\n",
        "import torch\n",
        "from transformers import AutoModelForCausalLM, AutoTokenizer"
      ]
    },
    {
      "cell_type": "markdown",
      "metadata": {
        "id": "eJpDXfjkHGn-"
      },
      "source": [
        "## Notebook 1.2: Tokenizers Implementation\n",
        "- Compare SentencePiece, TikToken, and BPE on various text samples\n",
        "- Implement a basic BPE tokenizer from scratch (Karpathy Tokenizer video)\n",
        "- Experiment with vocabulary extension techniques"
      ]
    },
    {
      "cell_type": "code",
      "execution_count": null,
      "metadata": {
        "id": "O1zQL1UyHGn-"
      },
      "outputs": [],
      "source": [
        "# Tokenizer implementation code"
      ]
    },
    {
      "cell_type": "markdown",
      "metadata": {
        "id": "DvE7rKfLHGn-"
      },
      "source": [
        "## Notebook 1.3: Embeddings Workshop\n",
        "- Implement contrastive learning with CLIP for image-text pairs\n",
        "- Create and visualize Word2Vec and contextual embeddings\n",
        "- Evaluate embeddings using MTEB benchmark tasks\n",
        "- Compare embedding performance across multiple languages"
      ]
    },
    {
      "cell_type": "code",
      "execution_count": null,
      "metadata": {
        "id": "aNxKE3LvHGn-"
      },
      "outputs": [],
      "source": [
        "# Embeddings implementation code"
      ]
    }
  ],
  "metadata": {
    "kernelspec": {
      "display_name": "Python 3",
      "language": "python",
      "name": "python3"
    },
    "language_info": {
      "codemirror_mode": {
        "name": "ipython",
        "version": 3
      },
      "file_extension": ".py",
      "mimetype": "text/x-python",
      "name": "python",
      "nbconvert_exporter": "python",
      "pygments_lexer": "ipython3",
      "version": "3.8.10"
    },
    "colab": {
      "provenance": [],
      "include_colab_link": true
    }
  },
  "nbformat": 4,
  "nbformat_minor": 0
}